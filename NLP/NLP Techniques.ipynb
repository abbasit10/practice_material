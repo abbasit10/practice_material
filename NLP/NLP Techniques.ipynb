{
 "cells": [
  {
   "cell_type": "code",
   "execution_count": 2,
   "id": "1b6fb46a",
   "metadata": {},
   "outputs": [],
   "source": [
    "import pandas as pd"
   ]
  },
  {
   "cell_type": "code",
   "execution_count": 4,
   "id": "45aa6228",
   "metadata": {},
   "outputs": [],
   "source": [
    "df= pd.read_csv(r\"X:\\BIA\\Practise\\Datasets\\reviews.csv\", nrows= 2000)"
   ]
  },
  {
   "cell_type": "code",
   "execution_count": 5,
   "id": "f353ee5e",
   "metadata": {},
   "outputs": [
    {
     "data": {
      "text/html": [
       "<div>\n",
       "<style scoped>\n",
       "    .dataframe tbody tr th:only-of-type {\n",
       "        vertical-align: middle;\n",
       "    }\n",
       "\n",
       "    .dataframe tbody tr th {\n",
       "        vertical-align: top;\n",
       "    }\n",
       "\n",
       "    .dataframe thead th {\n",
       "        text-align: right;\n",
       "    }\n",
       "</style>\n",
       "<table border=\"1\" class=\"dataframe\">\n",
       "  <thead>\n",
       "    <tr style=\"text-align: right;\">\n",
       "      <th></th>\n",
       "      <th>course_code</th>\n",
       "      <th>course_title</th>\n",
       "      <th>num_ratings</th>\n",
       "      <th>useful</th>\n",
       "      <th>easy</th>\n",
       "      <th>liked</th>\n",
       "      <th>num_reviews</th>\n",
       "      <th>reviews</th>\n",
       "      <th>course_rating</th>\n",
       "    </tr>\n",
       "  </thead>\n",
       "  <tbody>\n",
       "    <tr>\n",
       "      <th>0</th>\n",
       "      <td>CS 115</td>\n",
       "      <td>Introduction to Computer Science 1</td>\n",
       "      <td>2111</td>\n",
       "      <td>21%</td>\n",
       "      <td>10%</td>\n",
       "      <td>23%</td>\n",
       "      <td>86</td>\n",
       "      <td>go to office hours and practice</td>\n",
       "      <td>liked course</td>\n",
       "    </tr>\n",
       "    <tr>\n",
       "      <th>1</th>\n",
       "      <td>CS 115</td>\n",
       "      <td>Introduction to Computer Science 1</td>\n",
       "      <td>2111</td>\n",
       "      <td>21%</td>\n",
       "      <td>10%</td>\n",
       "      <td>23%</td>\n",
       "      <td>86</td>\n",
       "      <td>One of my least favourite courses. Although th...</td>\n",
       "      <td>disliked course</td>\n",
       "    </tr>\n",
       "    <tr>\n",
       "      <th>2</th>\n",
       "      <td>CS 115</td>\n",
       "      <td>Introduction to Computer Science 1</td>\n",
       "      <td>2111</td>\n",
       "      <td>21%</td>\n",
       "      <td>10%</td>\n",
       "      <td>23%</td>\n",
       "      <td>86</td>\n",
       "      <td>It starts with a very low pace but after midte...</td>\n",
       "      <td>disliked course</td>\n",
       "    </tr>\n",
       "    <tr>\n",
       "      <th>3</th>\n",
       "      <td>CS 115</td>\n",
       "      <td>Introduction to Computer Science 1</td>\n",
       "      <td>2111</td>\n",
       "      <td>21%</td>\n",
       "      <td>10%</td>\n",
       "      <td>23%</td>\n",
       "      <td>86</td>\n",
       "      <td>Took this in 2018 with no programming experien...</td>\n",
       "      <td>liked course</td>\n",
       "    </tr>\n",
       "    <tr>\n",
       "      <th>4</th>\n",
       "      <td>CS 115</td>\n",
       "      <td>Introduction to Computer Science 1</td>\n",
       "      <td>2111</td>\n",
       "      <td>21%</td>\n",
       "      <td>10%</td>\n",
       "      <td>23%</td>\n",
       "      <td>86</td>\n",
       "      <td>I loved everything about cs 115. Great instruc...</td>\n",
       "      <td>liked course</td>\n",
       "    </tr>\n",
       "  </tbody>\n",
       "</table>\n",
       "</div>"
      ],
      "text/plain": [
       "  course_code                        course_title  num_ratings useful easy  \\\n",
       "0      CS 115  Introduction to Computer Science 1         2111    21%  10%   \n",
       "1      CS 115  Introduction to Computer Science 1         2111    21%  10%   \n",
       "2      CS 115  Introduction to Computer Science 1         2111    21%  10%   \n",
       "3      CS 115  Introduction to Computer Science 1         2111    21%  10%   \n",
       "4      CS 115  Introduction to Computer Science 1         2111    21%  10%   \n",
       "\n",
       "  liked  num_reviews                                            reviews  \\\n",
       "0   23%           86                    go to office hours and practice   \n",
       "1   23%           86  One of my least favourite courses. Although th...   \n",
       "2   23%           86  It starts with a very low pace but after midte...   \n",
       "3   23%           86  Took this in 2018 with no programming experien...   \n",
       "4   23%           86  I loved everything about cs 115. Great instruc...   \n",
       "\n",
       "     course_rating  \n",
       "0     liked course  \n",
       "1  disliked course  \n",
       "2  disliked course  \n",
       "3     liked course  \n",
       "4     liked course  "
      ]
     },
     "execution_count": 5,
     "metadata": {},
     "output_type": "execute_result"
    }
   ],
   "source": [
    "df.head()"
   ]
  },
  {
   "cell_type": "code",
   "execution_count": 6,
   "id": "ff51adbb",
   "metadata": {},
   "outputs": [],
   "source": [
    "import string\n",
    "from nltk.corpus import wordnet, stopwords\n",
    "from nltk import pos_tag\n",
    "from nltk.tokenize import WhitespaceTokenizer\n",
    "from nltk.stem import WordNetLemmatizer"
   ]
  },
  {
   "cell_type": "code",
   "execution_count": 7,
   "id": "14b57fd0",
   "metadata": {},
   "outputs": [],
   "source": [
    "## return the wordnet object value corresponding to the POS tag\n",
    "def get_wordnet_pos(pos_tag):\n",
    "    if pos_tag.startswith('J'):\n",
    "        return wordnet.ADJ\n",
    "    elif pos_tag.startswith('V'):\n",
    "        return wordnet.VERB\n",
    "    elif pos_tag.startswith('N'):\n",
    "        return wordnet.NOUN\n",
    "    elif pos_tag.startswith('R'):\n",
    "        return wordnet.ADV\n",
    "    else:\n",
    "        return wordnet.NOUN\n",
    "    \n",
    "\n",
    "## Clean the text\n",
    "def clean_text(text):\n",
    "    # lower text\n",
    "    text = text.lower()\n",
    "    # tokenize text and remove puncutation\n",
    "    text = [word.strip(string.punctuation) for word in text.split(\" \")]\n",
    "    # remove words that contain numbers\n",
    "    text = [word for word in text if not any(c.isdigit() for c in word)]\n",
    "    # remove stop words\n",
    "    stop = stopwords.words('english')\n",
    "    text = [x for x in text if x not in stop]\n",
    "    # remove empty tokens\n",
    "    text = [t for t in text if len(t) > 0]\n",
    "    # pos tag text\n",
    "    pos_tags = pos_tag(text)\n",
    "    # lemmatize text\n",
    "    text = [WordNetLemmatizer().lemmatize(t[0], get_wordnet_pos(t[1])) for t in pos_tags]\n",
    "    # remove words with only one letter\n",
    "    text = [t for t in text if len(t) > 1]\n",
    "    # join all\n",
    "    text = \" \".join(text)\n",
    "    return(text)"
   ]
  },
  {
   "cell_type": "code",
   "execution_count": 8,
   "id": "c4762a38",
   "metadata": {},
   "outputs": [
    {
     "data": {
      "text/plain": [
       "0                         go to office hours and practice\n",
       "1       One of my least favourite courses. Although th...\n",
       "2       It starts with a very low pace but after midte...\n",
       "3       Took this in 2018 with no programming experien...\n",
       "4       I loved everything about cs 115. Great instruc...\n",
       "                              ...                        \n",
       "1995    Most useful course in CS undergrad. Assignment...\n",
       "1996    Overall very difficult, but covers some intere...\n",
       "1997    Assignments are both challenging and very fun....\n",
       "1998          Study for this. Very useful for interviews.\n",
       "1999    Teaches you how to solve 90% of tough intervie...\n",
       "Name: reviews, Length: 2000, dtype: object"
      ]
     },
     "execution_count": 8,
     "metadata": {},
     "output_type": "execute_result"
    }
   ],
   "source": [
    "df['reviews']"
   ]
  },
  {
   "cell_type": "code",
   "execution_count": 15,
   "id": "b5466b8c",
   "metadata": {},
   "outputs": [],
   "source": [
    "df['reviews']= df['reviews'].apply(lambda x: clean_text(x))"
   ]
  },
  {
   "cell_type": "code",
   "execution_count": 16,
   "id": "dd1cf393",
   "metadata": {},
   "outputs": [
    {
     "data": {
      "text/plain": [
       "0                                 go office hour practice\n",
       "1       one least favourite course although thing nice...\n",
       "2       start low pace midterm get really fast cannot ...\n",
       "3       take program experience ever start pretty slow...\n",
       "4       love everything great instructor fair assignme...\n",
       "                              ...                        \n",
       "1995    useful course undergrad assignment hard heavil...\n",
       "1996          overall difficult cover interesting concept\n",
       "1997    assignment challenge fun exam somewhat brutal ...\n",
       "1998                               study useful interview\n",
       "1999    teach solve tough interview problem plain fant...\n",
       "Name: reviews, Length: 2000, dtype: object"
      ]
     },
     "execution_count": 16,
     "metadata": {},
     "output_type": "execute_result"
    }
   ],
   "source": [
    "df['reviews']"
   ]
  },
  {
   "cell_type": "code",
   "execution_count": 17,
   "id": "c84d96c1",
   "metadata": {},
   "outputs": [],
   "source": [
    "df['reviews']= df['reviews'].apply(lambda x: x.split())"
   ]
  },
  {
   "cell_type": "code",
   "execution_count": 18,
   "id": "4b419c87",
   "metadata": {},
   "outputs": [
    {
     "data": {
      "text/plain": [
       "0                            [go, office, hour, practice]\n",
       "1       [one, least, favourite, course, although, thin...\n",
       "2       [start, low, pace, midterm, get, really, fast,...\n",
       "3       [take, program, experience, ever, start, prett...\n",
       "4       [love, everything, great, instructor, fair, as...\n",
       "                              ...                        \n",
       "1995    [useful, course, undergrad, assignment, hard, ...\n",
       "1996    [overall, difficult, cover, interesting, concept]\n",
       "1997    [assignment, challenge, fun, exam, somewhat, b...\n",
       "1998                           [study, useful, interview]\n",
       "1999    [teach, solve, tough, interview, problem, plai...\n",
       "Name: reviews, Length: 2000, dtype: object"
      ]
     },
     "execution_count": 18,
     "metadata": {},
     "output_type": "execute_result"
    }
   ],
   "source": [
    "df['reviews']"
   ]
  },
  {
   "cell_type": "code",
   "execution_count": 19,
   "id": "25699257",
   "metadata": {},
   "outputs": [],
   "source": [
    "import gensim"
   ]
  },
  {
   "cell_type": "code",
   "execution_count": 21,
   "id": "eb9680da",
   "metadata": {},
   "outputs": [
    {
     "data": {
      "text/plain": [
       "(754848, 1021290)"
      ]
     },
     "execution_count": 21,
     "metadata": {},
     "output_type": "execute_result"
    }
   ],
   "source": [
    "model_w2v= gensim.models.Word2Vec(\n",
    "    df['reviews'],\n",
    "    vector_size= 200, # Embedding size, dimensions size\n",
    "    window = 5, # Predict the woed on basis of 5 neighboring words\n",
    "    sg= 1, # Skip Gram\n",
    "    min_count = 2, # Don't learn words having frequency 2.\n",
    "    workers= 8 # \n",
    ")\n",
    "model_w2v.train(df['reviews'], total_examples= len(df['reviews']), epochs= 30)"
   ]
  },
  {
   "cell_type": "code",
   "execution_count": 22,
   "id": "66cf501e",
   "metadata": {},
   "outputs": [
    {
     "data": {
      "text/plain": [
       "array([ 0.18086281,  0.1765539 , -0.24602327,  0.24146524,  0.28951547,\n",
       "        0.14368783,  0.2956964 ,  0.30010724, -0.06362466, -0.0950039 ,\n",
       "       -0.2671791 ,  0.3019463 , -0.2008132 ,  0.34258348, -0.12048569,\n",
       "        0.12937596,  0.00195689,  0.28856406, -0.11838845, -0.2912196 ,\n",
       "        0.1566854 , -0.0638738 , -0.15809946,  0.4107372 ,  0.00510668,\n",
       "       -0.06625225,  0.06421471, -0.15289119, -0.02052864,  0.1802633 ,\n",
       "        0.21283725,  0.05432767, -0.33093256, -0.22868629,  0.0633126 ,\n",
       "       -0.04026464,  0.08879218,  0.02789182, -0.05457027, -0.01732863,\n",
       "        0.14742206, -0.30382636, -0.25738472,  0.25935674,  0.37717155,\n",
       "        0.05100643,  0.2467453 , -0.19775222,  0.22036117, -0.09001115,\n",
       "        0.18715733, -0.04517519,  0.03282401, -0.16335385, -0.09986109,\n",
       "       -0.1300207 , -0.00272858, -0.18705612, -0.28871274, -0.18202022,\n",
       "       -0.02477205, -0.26852283,  0.31330281, -0.2763333 , -0.23582256,\n",
       "       -0.04635693,  0.05365926,  0.33610606,  0.03000969,  0.15366375,\n",
       "        0.06697757,  0.00515791, -0.00658081,  0.08089527,  0.19130248,\n",
       "        0.31660584, -0.17638238, -0.03136986,  0.04998056, -0.3845372 ,\n",
       "       -0.13800037, -0.29025942,  0.22579764, -0.29057592, -0.21205702,\n",
       "       -0.1122752 ,  0.20011851,  0.11675354, -0.12173668, -0.13438435,\n",
       "       -0.03548979,  0.21467713,  0.08852892, -0.18320967,  0.05910279,\n",
       "       -0.12326325,  0.23772006,  0.03101156, -0.00934508,  0.03749765,\n",
       "       -0.15515827,  0.01690373,  0.17907883, -0.18716198, -0.45532155,\n",
       "       -0.14776744,  0.18576415,  0.16510575, -0.09369857,  0.00805915,\n",
       "       -0.07822657,  0.04880837, -0.27270055,  0.0912855 , -0.05511603,\n",
       "       -0.11414018, -0.07208284, -0.32915607,  0.10593182, -0.20597051,\n",
       "       -0.18290916,  0.18709357,  0.25284648, -0.05058289, -0.25277615,\n",
       "       -0.02959294, -0.187306  , -0.06725174, -0.01844915, -0.02151989,\n",
       "        0.05024717, -0.18705037, -0.03392981,  0.03765967, -0.18755455,\n",
       "        0.3834168 ,  0.1569787 ,  0.25577873,  0.03693955, -0.08304496,\n",
       "        0.15343209, -0.23217563, -0.15568404, -0.18620396,  0.12399158,\n",
       "        0.09017134, -0.16716994,  0.09725941, -0.07685501, -0.18409699,\n",
       "        0.11783205, -0.24331707,  0.18370622,  0.3696122 , -0.20545492,\n",
       "        0.18463089,  0.2964664 ,  0.25201097, -0.27055782, -0.05521799,\n",
       "        0.27325875, -0.04386719,  0.2959612 , -0.2020591 , -0.08447878,\n",
       "       -0.02927445,  0.1142891 , -0.05527129, -0.03701446, -0.18488197,\n",
       "        0.09847486, -0.00312921,  0.04342923,  0.14687254,  0.0477666 ,\n",
       "        0.11495285, -0.17529571,  0.19175674, -0.10315397,  0.18389027,\n",
       "        0.01330921,  0.08739796,  0.08620991,  0.06291461,  0.19966893,\n",
       "        0.01165004, -0.1756803 ,  0.46427402,  0.2042361 ,  0.02836928,\n",
       "        0.22577907,  0.09878867, -0.31402028, -0.06455386,  0.27575114,\n",
       "        0.2405881 ,  0.06807241,  0.03504771,  0.10700867, -0.16028714],\n",
       "      dtype=float32)"
      ]
     },
     "execution_count": 22,
     "metadata": {},
     "output_type": "execute_result"
    }
   ],
   "source": [
    "model_w2v.wv['assignment'] # Weights of word"
   ]
  },
  {
   "cell_type": "markdown",
   "id": "785948b0",
   "metadata": {},
   "source": [
    "# Twitter Fake vs True Classification"
   ]
  },
  {
   "cell_type": "code",
   "execution_count": 57,
   "id": "e532f6a2",
   "metadata": {},
   "outputs": [],
   "source": [
    "true= pd.read_csv(r\"X:\\BIA\\Practise\\news\\True.csv\", nrows= 500)\n",
    "fake= pd.read_csv(r\"X:\\BIA\\Practise\\news\\Fake.csv\", nrows= 500)"
   ]
  },
  {
   "cell_type": "code",
   "execution_count": 58,
   "id": "03ef0445",
   "metadata": {},
   "outputs": [
    {
     "data": {
      "text/html": [
       "<div>\n",
       "<style scoped>\n",
       "    .dataframe tbody tr th:only-of-type {\n",
       "        vertical-align: middle;\n",
       "    }\n",
       "\n",
       "    .dataframe tbody tr th {\n",
       "        vertical-align: top;\n",
       "    }\n",
       "\n",
       "    .dataframe thead th {\n",
       "        text-align: right;\n",
       "    }\n",
       "</style>\n",
       "<table border=\"1\" class=\"dataframe\">\n",
       "  <thead>\n",
       "    <tr style=\"text-align: right;\">\n",
       "      <th></th>\n",
       "      <th>title</th>\n",
       "      <th>text</th>\n",
       "      <th>subject</th>\n",
       "      <th>date</th>\n",
       "    </tr>\n",
       "  </thead>\n",
       "  <tbody>\n",
       "    <tr>\n",
       "      <th>0</th>\n",
       "      <td>As U.S. budget fight looms, Republicans flip t...</td>\n",
       "      <td>WASHINGTON (Reuters) - The head of a conservat...</td>\n",
       "      <td>politicsNews</td>\n",
       "      <td>December 31, 2017</td>\n",
       "    </tr>\n",
       "    <tr>\n",
       "      <th>1</th>\n",
       "      <td>U.S. military to accept transgender recruits o...</td>\n",
       "      <td>WASHINGTON (Reuters) - Transgender people will...</td>\n",
       "      <td>politicsNews</td>\n",
       "      <td>December 29, 2017</td>\n",
       "    </tr>\n",
       "    <tr>\n",
       "      <th>2</th>\n",
       "      <td>Senior U.S. Republican senator: 'Let Mr. Muell...</td>\n",
       "      <td>WASHINGTON (Reuters) - The special counsel inv...</td>\n",
       "      <td>politicsNews</td>\n",
       "      <td>December 31, 2017</td>\n",
       "    </tr>\n",
       "    <tr>\n",
       "      <th>3</th>\n",
       "      <td>FBI Russia probe helped by Australian diplomat...</td>\n",
       "      <td>WASHINGTON (Reuters) - Trump campaign adviser ...</td>\n",
       "      <td>politicsNews</td>\n",
       "      <td>December 30, 2017</td>\n",
       "    </tr>\n",
       "    <tr>\n",
       "      <th>4</th>\n",
       "      <td>Trump wants Postal Service to charge 'much mor...</td>\n",
       "      <td>SEATTLE/WASHINGTON (Reuters) - President Donal...</td>\n",
       "      <td>politicsNews</td>\n",
       "      <td>December 29, 2017</td>\n",
       "    </tr>\n",
       "  </tbody>\n",
       "</table>\n",
       "</div>"
      ],
      "text/plain": [
       "                                               title  \\\n",
       "0  As U.S. budget fight looms, Republicans flip t...   \n",
       "1  U.S. military to accept transgender recruits o...   \n",
       "2  Senior U.S. Republican senator: 'Let Mr. Muell...   \n",
       "3  FBI Russia probe helped by Australian diplomat...   \n",
       "4  Trump wants Postal Service to charge 'much mor...   \n",
       "\n",
       "                                                text       subject  \\\n",
       "0  WASHINGTON (Reuters) - The head of a conservat...  politicsNews   \n",
       "1  WASHINGTON (Reuters) - Transgender people will...  politicsNews   \n",
       "2  WASHINGTON (Reuters) - The special counsel inv...  politicsNews   \n",
       "3  WASHINGTON (Reuters) - Trump campaign adviser ...  politicsNews   \n",
       "4  SEATTLE/WASHINGTON (Reuters) - President Donal...  politicsNews   \n",
       "\n",
       "                 date  \n",
       "0  December 31, 2017   \n",
       "1  December 29, 2017   \n",
       "2  December 31, 2017   \n",
       "3  December 30, 2017   \n",
       "4  December 29, 2017   "
      ]
     },
     "execution_count": 58,
     "metadata": {},
     "output_type": "execute_result"
    }
   ],
   "source": [
    "true.head()"
   ]
  },
  {
   "cell_type": "code",
   "execution_count": 59,
   "id": "450e3ed0",
   "metadata": {},
   "outputs": [
    {
     "data": {
      "text/html": [
       "<div>\n",
       "<style scoped>\n",
       "    .dataframe tbody tr th:only-of-type {\n",
       "        vertical-align: middle;\n",
       "    }\n",
       "\n",
       "    .dataframe tbody tr th {\n",
       "        vertical-align: top;\n",
       "    }\n",
       "\n",
       "    .dataframe thead th {\n",
       "        text-align: right;\n",
       "    }\n",
       "</style>\n",
       "<table border=\"1\" class=\"dataframe\">\n",
       "  <thead>\n",
       "    <tr style=\"text-align: right;\">\n",
       "      <th></th>\n",
       "      <th>title</th>\n",
       "      <th>text</th>\n",
       "      <th>subject</th>\n",
       "      <th>date</th>\n",
       "    </tr>\n",
       "  </thead>\n",
       "  <tbody>\n",
       "    <tr>\n",
       "      <th>0</th>\n",
       "      <td>Donald Trump Sends Out Embarrassing New Year’...</td>\n",
       "      <td>Donald Trump just couldn t wish all Americans ...</td>\n",
       "      <td>News</td>\n",
       "      <td>December 31, 2017</td>\n",
       "    </tr>\n",
       "    <tr>\n",
       "      <th>1</th>\n",
       "      <td>Drunk Bragging Trump Staffer Started Russian ...</td>\n",
       "      <td>House Intelligence Committee Chairman Devin Nu...</td>\n",
       "      <td>News</td>\n",
       "      <td>December 31, 2017</td>\n",
       "    </tr>\n",
       "    <tr>\n",
       "      <th>2</th>\n",
       "      <td>Sheriff David Clarke Becomes An Internet Joke...</td>\n",
       "      <td>On Friday, it was revealed that former Milwauk...</td>\n",
       "      <td>News</td>\n",
       "      <td>December 30, 2017</td>\n",
       "    </tr>\n",
       "    <tr>\n",
       "      <th>3</th>\n",
       "      <td>Trump Is So Obsessed He Even Has Obama’s Name...</td>\n",
       "      <td>On Christmas day, Donald Trump announced that ...</td>\n",
       "      <td>News</td>\n",
       "      <td>December 29, 2017</td>\n",
       "    </tr>\n",
       "    <tr>\n",
       "      <th>4</th>\n",
       "      <td>Pope Francis Just Called Out Donald Trump Dur...</td>\n",
       "      <td>Pope Francis used his annual Christmas Day mes...</td>\n",
       "      <td>News</td>\n",
       "      <td>December 25, 2017</td>\n",
       "    </tr>\n",
       "  </tbody>\n",
       "</table>\n",
       "</div>"
      ],
      "text/plain": [
       "                                               title  \\\n",
       "0   Donald Trump Sends Out Embarrassing New Year’...   \n",
       "1   Drunk Bragging Trump Staffer Started Russian ...   \n",
       "2   Sheriff David Clarke Becomes An Internet Joke...   \n",
       "3   Trump Is So Obsessed He Even Has Obama’s Name...   \n",
       "4   Pope Francis Just Called Out Donald Trump Dur...   \n",
       "\n",
       "                                                text subject  \\\n",
       "0  Donald Trump just couldn t wish all Americans ...    News   \n",
       "1  House Intelligence Committee Chairman Devin Nu...    News   \n",
       "2  On Friday, it was revealed that former Milwauk...    News   \n",
       "3  On Christmas day, Donald Trump announced that ...    News   \n",
       "4  Pope Francis used his annual Christmas Day mes...    News   \n",
       "\n",
       "                date  \n",
       "0  December 31, 2017  \n",
       "1  December 31, 2017  \n",
       "2  December 30, 2017  \n",
       "3  December 29, 2017  \n",
       "4  December 25, 2017  "
      ]
     },
     "execution_count": 59,
     "metadata": {},
     "output_type": "execute_result"
    }
   ],
   "source": [
    "fake.head()"
   ]
  },
  {
   "cell_type": "code",
   "execution_count": 60,
   "id": "474a6b27",
   "metadata": {},
   "outputs": [],
   "source": [
    "true['category']= 1\n",
    "fake['category']= 0"
   ]
  },
  {
   "cell_type": "code",
   "execution_count": 61,
   "id": "61134f7e",
   "metadata": {},
   "outputs": [],
   "source": [
    "df= pd.concat([true, fake])"
   ]
  },
  {
   "cell_type": "code",
   "execution_count": 62,
   "id": "df0c6b4d",
   "metadata": {},
   "outputs": [
    {
     "data": {
      "text/html": [
       "<div>\n",
       "<style scoped>\n",
       "    .dataframe tbody tr th:only-of-type {\n",
       "        vertical-align: middle;\n",
       "    }\n",
       "\n",
       "    .dataframe tbody tr th {\n",
       "        vertical-align: top;\n",
       "    }\n",
       "\n",
       "    .dataframe thead th {\n",
       "        text-align: right;\n",
       "    }\n",
       "</style>\n",
       "<table border=\"1\" class=\"dataframe\">\n",
       "  <thead>\n",
       "    <tr style=\"text-align: right;\">\n",
       "      <th></th>\n",
       "      <th>title</th>\n",
       "      <th>text</th>\n",
       "      <th>subject</th>\n",
       "      <th>date</th>\n",
       "      <th>category</th>\n",
       "    </tr>\n",
       "  </thead>\n",
       "  <tbody>\n",
       "    <tr>\n",
       "      <th>0</th>\n",
       "      <td>As U.S. budget fight looms, Republicans flip t...</td>\n",
       "      <td>WASHINGTON (Reuters) - The head of a conservat...</td>\n",
       "      <td>politicsNews</td>\n",
       "      <td>December 31, 2017</td>\n",
       "      <td>1</td>\n",
       "    </tr>\n",
       "    <tr>\n",
       "      <th>1</th>\n",
       "      <td>U.S. military to accept transgender recruits o...</td>\n",
       "      <td>WASHINGTON (Reuters) - Transgender people will...</td>\n",
       "      <td>politicsNews</td>\n",
       "      <td>December 29, 2017</td>\n",
       "      <td>1</td>\n",
       "    </tr>\n",
       "    <tr>\n",
       "      <th>2</th>\n",
       "      <td>Senior U.S. Republican senator: 'Let Mr. Muell...</td>\n",
       "      <td>WASHINGTON (Reuters) - The special counsel inv...</td>\n",
       "      <td>politicsNews</td>\n",
       "      <td>December 31, 2017</td>\n",
       "      <td>1</td>\n",
       "    </tr>\n",
       "    <tr>\n",
       "      <th>3</th>\n",
       "      <td>FBI Russia probe helped by Australian diplomat...</td>\n",
       "      <td>WASHINGTON (Reuters) - Trump campaign adviser ...</td>\n",
       "      <td>politicsNews</td>\n",
       "      <td>December 30, 2017</td>\n",
       "      <td>1</td>\n",
       "    </tr>\n",
       "    <tr>\n",
       "      <th>4</th>\n",
       "      <td>Trump wants Postal Service to charge 'much mor...</td>\n",
       "      <td>SEATTLE/WASHINGTON (Reuters) - President Donal...</td>\n",
       "      <td>politicsNews</td>\n",
       "      <td>December 29, 2017</td>\n",
       "      <td>1</td>\n",
       "    </tr>\n",
       "    <tr>\n",
       "      <th>...</th>\n",
       "      <td>...</td>\n",
       "      <td>...</td>\n",
       "      <td>...</td>\n",
       "      <td>...</td>\n",
       "      <td>...</td>\n",
       "    </tr>\n",
       "    <tr>\n",
       "      <th>495</th>\n",
       "      <td>RNC Staffer Assigned To Finding Positive Stor...</td>\n",
       "      <td>Imagine for a moment that your job was to scou...</td>\n",
       "      <td>News</td>\n",
       "      <td>August 25, 2017</td>\n",
       "      <td>0</td>\n",
       "    </tr>\n",
       "    <tr>\n",
       "      <th>496</th>\n",
       "      <td>Trump Wants It Both Ways, But You Can’t Pass ...</td>\n",
       "      <td>Everybody s gotten used to Donald Trump contra...</td>\n",
       "      <td>News</td>\n",
       "      <td>August 25, 2017</td>\n",
       "      <td>0</td>\n",
       "    </tr>\n",
       "    <tr>\n",
       "      <th>497</th>\n",
       "      <td>REPORT: Mueller Hot On Trump’s Trail, Has Bui...</td>\n",
       "      <td>Donald Trump is very afraid of Special Counsel...</td>\n",
       "      <td>News</td>\n",
       "      <td>August 25, 2017</td>\n",
       "      <td>0</td>\n",
       "    </tr>\n",
       "    <tr>\n",
       "      <th>498</th>\n",
       "      <td>House Dem Wants GOP On Record: Stop Gov’t Spe...</td>\n",
       "      <td>Early next month, the GOP-controlled House of ...</td>\n",
       "      <td>News</td>\n",
       "      <td>August 24, 2017</td>\n",
       "      <td>0</td>\n",
       "    </tr>\n",
       "    <tr>\n",
       "      <th>499</th>\n",
       "      <td>Trump Supporter Laura Ingraham FAILS With Fak...</td>\n",
       "      <td>You know how conservatives are constantly scre...</td>\n",
       "      <td>News</td>\n",
       "      <td>August 24, 2017</td>\n",
       "      <td>0</td>\n",
       "    </tr>\n",
       "  </tbody>\n",
       "</table>\n",
       "<p>1000 rows × 5 columns</p>\n",
       "</div>"
      ],
      "text/plain": [
       "                                                 title  \\\n",
       "0    As U.S. budget fight looms, Republicans flip t...   \n",
       "1    U.S. military to accept transgender recruits o...   \n",
       "2    Senior U.S. Republican senator: 'Let Mr. Muell...   \n",
       "3    FBI Russia probe helped by Australian diplomat...   \n",
       "4    Trump wants Postal Service to charge 'much mor...   \n",
       "..                                                 ...   \n",
       "495   RNC Staffer Assigned To Finding Positive Stor...   \n",
       "496   Trump Wants It Both Ways, But You Can’t Pass ...   \n",
       "497   REPORT: Mueller Hot On Trump’s Trail, Has Bui...   \n",
       "498   House Dem Wants GOP On Record: Stop Gov’t Spe...   \n",
       "499   Trump Supporter Laura Ingraham FAILS With Fak...   \n",
       "\n",
       "                                                  text       subject  \\\n",
       "0    WASHINGTON (Reuters) - The head of a conservat...  politicsNews   \n",
       "1    WASHINGTON (Reuters) - Transgender people will...  politicsNews   \n",
       "2    WASHINGTON (Reuters) - The special counsel inv...  politicsNews   \n",
       "3    WASHINGTON (Reuters) - Trump campaign adviser ...  politicsNews   \n",
       "4    SEATTLE/WASHINGTON (Reuters) - President Donal...  politicsNews   \n",
       "..                                                 ...           ...   \n",
       "495  Imagine for a moment that your job was to scou...          News   \n",
       "496  Everybody s gotten used to Donald Trump contra...          News   \n",
       "497  Donald Trump is very afraid of Special Counsel...          News   \n",
       "498  Early next month, the GOP-controlled House of ...          News   \n",
       "499  You know how conservatives are constantly scre...          News   \n",
       "\n",
       "                   date  category  \n",
       "0    December 31, 2017          1  \n",
       "1    December 29, 2017          1  \n",
       "2    December 31, 2017          1  \n",
       "3    December 30, 2017          1  \n",
       "4    December 29, 2017          1  \n",
       "..                  ...       ...  \n",
       "495     August 25, 2017         0  \n",
       "496     August 25, 2017         0  \n",
       "497     August 25, 2017         0  \n",
       "498     August 24, 2017         0  \n",
       "499     August 24, 2017         0  \n",
       "\n",
       "[1000 rows x 5 columns]"
      ]
     },
     "execution_count": 62,
     "metadata": {},
     "output_type": "execute_result"
    }
   ],
   "source": [
    "df"
   ]
  },
  {
   "cell_type": "code",
   "execution_count": 63,
   "id": "80680276",
   "metadata": {},
   "outputs": [],
   "source": [
    "df['text']= df['text'].apply(lambda x: clean_text(x))"
   ]
  },
  {
   "cell_type": "code",
   "execution_count": 64,
   "id": "e5dce5e8",
   "metadata": {},
   "outputs": [
    {
     "data": {
      "text/plain": [
       "0      washington reuters head conservative republica...\n",
       "1      washington reuters transgender people allow fi...\n",
       "2      washington reuters special counsel investigati...\n",
       "3      washington reuters trump campaign adviser geor...\n",
       "4      seattle/washington reuters president donald tr...\n",
       "                             ...                        \n",
       "495    imagine moment job scour medium search rare ne...\n",
       "496    everybody gotten use donald trump contradict a...\n",
       "497    donald trump afraid special counsel robert mue...\n",
       "498    early next month gop-controlled house represen...\n",
       "499    know conservatives constantly scream fake news...\n",
       "Name: text, Length: 1000, dtype: object"
      ]
     },
     "execution_count": 64,
     "metadata": {},
     "output_type": "execute_result"
    }
   ],
   "source": [
    "df['text']"
   ]
  },
  {
   "cell_type": "code",
   "execution_count": 78,
   "id": "45d29345",
   "metadata": {},
   "outputs": [],
   "source": [
    "from keras.preprocessing import text, sequence\n",
    "import numpy as np"
   ]
  },
  {
   "cell_type": "code",
   "execution_count": 67,
   "id": "30069359",
   "metadata": {},
   "outputs": [
    {
     "data": {
      "text/plain": [
       "array([[   6,   28,  322, ...,  386,   28,  734],\n",
       "       [3672,  556, 1647, ...,   91, 1883, 1952],\n",
       "       [   0,    0,    0, ...,  319,    5,    2],\n",
       "       ...,\n",
       "       [   0,    0,    0, ..., 2189,   84,   21],\n",
       "       [   0,    0,    0, ...,  943,   84,   21],\n",
       "       [   0,    0,    0, ...,   21,   55, 1740]])"
      ]
     },
     "execution_count": 67,
     "metadata": {},
     "output_type": "execute_result"
    }
   ],
   "source": [
    "tokenizer= text.Tokenizer(num_words= 5000)\n",
    "tokenizer.fit_on_texts(df['text'])\n",
    "tokenized_text= tokenizer.texts_to_sequences(df['text'])\n",
    "tokenized_text= sequence.pad_sequences(tokenized_text, 300)\n",
    "tokenized_text"
   ]
  },
  {
   "cell_type": "code",
   "execution_count": 85,
   "id": "be970351",
   "metadata": {},
   "outputs": [],
   "source": [
    "EMBEDDING_FILE= r\"X:\\BIA\\Practise\\news\\glove.twitter.27B.100d.txt\""
   ]
  },
  {
   "cell_type": "code",
   "execution_count": 86,
   "id": "cb5ac0f1",
   "metadata": {},
   "outputs": [],
   "source": [
    "def get_coefs(word, *arr):\n",
    "    return word, np.asarray(arr, dtype= 'float32')\n",
    "\n",
    "def load_embeddings(embedding_file, word_index, max_features):\n",
    "    embeddings_index = {}\n",
    "    with open(embedding_file, encoding='utf-8') as f:\n",
    "        for line in f:\n",
    "            word, coefs = get_coefs(*line.rstrip().rsplit(' '))\n",
    "            embeddings_index[word] = coefs\n",
    "\n",
    "    all_embs = np.stack(embeddings_index.values())\n",
    "    emb_mean, emb_std = all_embs.mean(), all_embs.std()\n",
    "    embed_size = all_embs.shape[1]\n",
    "\n",
    "    nb_words = min(max_features, len(word_index))\n",
    "    embedding_matrix = np.random.normal(emb_mean, emb_std, (nb_words, embed_size))\n",
    "    for word, i in word_index.items():\n",
    "        if i >= max_features:\n",
    "            continue\n",
    "        embedding_vector = embeddings_index.get(word)\n",
    "        if embedding_vector is not None:\n",
    "            embedding_matrix[i] = embedding_vector\n",
    "\n",
    "    return embedding_matrix, embed_size"
   ]
  },
  {
   "cell_type": "code",
   "execution_count": 87,
   "id": "68b8ce4d",
   "metadata": {},
   "outputs": [
    {
     "name": "stderr",
     "output_type": "stream",
     "text": [
      "C:\\Users\\abdul\\anaconda3\\Lib\\site-packages\\IPython\\core\\interactiveshell.py:3526: FutureWarning: arrays to stack must be passed as a \"sequence\" type such as list or tuple. Support for non-sequence iterables such as generators is deprecated as of NumPy 1.16 and will raise an error in the future.\n",
      "  exec(code_obj, self.user_global_ns, self.user_ns)\n"
     ]
    }
   ],
   "source": [
    "embedding_matrix, embed_size= load_embeddings(EMBEDDING_FILE, tokenizer.word_index, max_features= 5000)"
   ]
  },
  {
   "cell_type": "code",
   "execution_count": 90,
   "id": "a0dd61cf",
   "metadata": {},
   "outputs": [],
   "source": [
    "from sklearn.model_selection import train_test_split\n",
    "from keras.models import Sequential\n",
    "from keras.layers import Embedding, LSTM, Dense, Dropout\n",
    "from sklearn.metrics import accuracy_score, classification_report, confusion_matrix"
   ]
  },
  {
   "cell_type": "code",
   "execution_count": 111,
   "id": "35ab64b6",
   "metadata": {},
   "outputs": [
    {
     "name": "stdout",
     "output_type": "stream",
     "text": [
      "Model: \"sequential_3\"\n",
      "_________________________________________________________________\n",
      " Layer (type)                Output Shape              Param #   \n",
      "=================================================================\n",
      " embedding_3 (Embedding)     (None, 300, 100)          500000    \n",
      "                                                                 \n",
      " lstm_4 (LSTM)               (None, 300, 128)          117248    \n",
      "                                                                 \n",
      " lstm_5 (LSTM)               (None, 64)                49408     \n",
      "                                                                 \n",
      " dense_4 (Dense)             (None, 32)                2080      \n",
      "                                                                 \n",
      " dense_5 (Dense)             (None, 1)                 33        \n",
      "                                                                 \n",
      "=================================================================\n",
      "Total params: 668769 (2.55 MB)\n",
      "Trainable params: 168769 (659.25 KB)\n",
      "Non-trainable params: 500000 (1.91 MB)\n",
      "_________________________________________________________________\n"
     ]
    }
   ],
   "source": [
    "model= Sequential()\n",
    "\n",
    "model.add(Embedding(5000, output_dim= embed_size, weights=[embedding_matrix], input_length=300, trainable= False))\n",
    "\n",
    "model.add(LSTM(units= 128, return_sequences= True, recurrent_dropout= 0.25, dropout= 0.2))\n",
    "model.add(LSTM(units= 64, recurrent_dropout= 0.25, dropout= 0.2))\n",
    "model.add(Dense(units=32, activation= 'relu'))\n",
    "model.add(Dense(units=1, activation= 'sigmoid'))\n",
    "\n",
    "model.compile(optimizer= 'adam', loss='binary_crossentropy', metrics= ['accuracy'])\n",
    "\n",
    "model.summary()"
   ]
  },
  {
   "cell_type": "code",
   "execution_count": 112,
   "id": "0a56b0a7",
   "metadata": {},
   "outputs": [],
   "source": [
    "X_train, X_test, y_train, y_test= train_test_split(tokenized_text, df['category'], stratify= df['category'], test_size= 0.2, random_state=42)"
   ]
  },
  {
   "cell_type": "code",
   "execution_count": 106,
   "id": "dcfe2791",
   "metadata": {},
   "outputs": [
    {
     "data": {
      "text/plain": [
       "(800, 300)"
      ]
     },
     "execution_count": 106,
     "metadata": {},
     "output_type": "execute_result"
    }
   ],
   "source": [
    "X_train.shape"
   ]
  },
  {
   "cell_type": "code",
   "execution_count": 107,
   "id": "32a6cff9",
   "metadata": {},
   "outputs": [
    {
     "data": {
      "text/plain": [
       "(800,)"
      ]
     },
     "execution_count": 107,
     "metadata": {},
     "output_type": "execute_result"
    }
   ],
   "source": [
    "y_train.shape"
   ]
  },
  {
   "cell_type": "code",
   "execution_count": 108,
   "id": "ff277b2f",
   "metadata": {},
   "outputs": [
    {
     "data": {
      "text/plain": [
       "(200, 300)"
      ]
     },
     "execution_count": 108,
     "metadata": {},
     "output_type": "execute_result"
    }
   ],
   "source": [
    "X_test.shape"
   ]
  },
  {
   "cell_type": "code",
   "execution_count": 109,
   "id": "7dd88861",
   "metadata": {},
   "outputs": [
    {
     "data": {
      "text/plain": [
       "(200,)"
      ]
     },
     "execution_count": 109,
     "metadata": {},
     "output_type": "execute_result"
    }
   ],
   "source": [
    "y_test.shape"
   ]
  },
  {
   "cell_type": "code",
   "execution_count": 113,
   "id": "b853f117",
   "metadata": {},
   "outputs": [
    {
     "name": "stdout",
     "output_type": "stream",
     "text": [
      "Epoch 1/3\n",
      "WARNING:tensorflow:From C:\\Users\\abdul\\anaconda3\\Lib\\site-packages\\keras\\src\\utils\\tf_utils.py:492: The name tf.ragged.RaggedTensorValue is deprecated. Please use tf.compat.v1.ragged.RaggedTensorValue instead.\n",
      "\n",
      "WARNING:tensorflow:From C:\\Users\\abdul\\anaconda3\\Lib\\site-packages\\keras\\src\\engine\\base_layer_utils.py:384: The name tf.executing_eagerly_outside_functions is deprecated. Please use tf.compat.v1.executing_eagerly_outside_functions instead.\n",
      "\n",
      "25/25 - 27s - loss: 0.3310 - accuracy: 0.8838 - val_loss: 0.0886 - val_accuracy: 0.9800 - 27s/epoch - 1s/step\n",
      "Epoch 2/3\n",
      "25/25 - 19s - loss: 0.0553 - accuracy: 0.9850 - val_loss: 0.0133 - val_accuracy: 1.0000 - 19s/epoch - 752ms/step\n",
      "Epoch 3/3\n",
      "25/25 - 19s - loss: 0.0372 - accuracy: 0.9900 - val_loss: 0.0076 - val_accuracy: 1.0000 - 19s/epoch - 758ms/step\n"
     ]
    },
    {
     "data": {
      "text/plain": [
       "<keras.src.callbacks.History at 0x26f1c8a4b50>"
      ]
     },
     "execution_count": 113,
     "metadata": {},
     "output_type": "execute_result"
    }
   ],
   "source": [
    "model.fit(X_train, y_train, batch_size=32, validation_data=(X_test, y_test), epochs=3, verbose=2)\n"
   ]
  },
  {
   "cell_type": "code",
   "execution_count": 116,
   "id": "c65f19a0",
   "metadata": {},
   "outputs": [
    {
     "name": "stdout",
     "output_type": "stream",
     "text": [
      "7/7 [==============================] - 1s 79ms/step\n"
     ]
    },
    {
     "data": {
      "text/plain": [
       "array([[1],\n",
       "       [0],\n",
       "       [0],\n",
       "       [0],\n",
       "       [1],\n",
       "       [1],\n",
       "       [1],\n",
       "       [1],\n",
       "       [0],\n",
       "       [0],\n",
       "       [1],\n",
       "       [1],\n",
       "       [1],\n",
       "       [0],\n",
       "       [0],\n",
       "       [0],\n",
       "       [1],\n",
       "       [0],\n",
       "       [1],\n",
       "       [0],\n",
       "       [1],\n",
       "       [0],\n",
       "       [1],\n",
       "       [0],\n",
       "       [1],\n",
       "       [1],\n",
       "       [1],\n",
       "       [1],\n",
       "       [0],\n",
       "       [1],\n",
       "       [0],\n",
       "       [1],\n",
       "       [1],\n",
       "       [1],\n",
       "       [1],\n",
       "       [0],\n",
       "       [0],\n",
       "       [0],\n",
       "       [0],\n",
       "       [0],\n",
       "       [0],\n",
       "       [1],\n",
       "       [1],\n",
       "       [0],\n",
       "       [0],\n",
       "       [1],\n",
       "       [0],\n",
       "       [1],\n",
       "       [1],\n",
       "       [0],\n",
       "       [1],\n",
       "       [0],\n",
       "       [1],\n",
       "       [0],\n",
       "       [0],\n",
       "       [0],\n",
       "       [1],\n",
       "       [0],\n",
       "       [0],\n",
       "       [1],\n",
       "       [1],\n",
       "       [1],\n",
       "       [1],\n",
       "       [0],\n",
       "       [0],\n",
       "       [0],\n",
       "       [1],\n",
       "       [1],\n",
       "       [0],\n",
       "       [0],\n",
       "       [0],\n",
       "       [0],\n",
       "       [1],\n",
       "       [1],\n",
       "       [1],\n",
       "       [1],\n",
       "       [0],\n",
       "       [0],\n",
       "       [1],\n",
       "       [0],\n",
       "       [0],\n",
       "       [1],\n",
       "       [1],\n",
       "       [1],\n",
       "       [1],\n",
       "       [0],\n",
       "       [0],\n",
       "       [0],\n",
       "       [0],\n",
       "       [0],\n",
       "       [1],\n",
       "       [1],\n",
       "       [1],\n",
       "       [0],\n",
       "       [0],\n",
       "       [1],\n",
       "       [1],\n",
       "       [0],\n",
       "       [1],\n",
       "       [0],\n",
       "       [1],\n",
       "       [0],\n",
       "       [0],\n",
       "       [1],\n",
       "       [1],\n",
       "       [1],\n",
       "       [0],\n",
       "       [1],\n",
       "       [0],\n",
       "       [1],\n",
       "       [1],\n",
       "       [1],\n",
       "       [0],\n",
       "       [1],\n",
       "       [0],\n",
       "       [0],\n",
       "       [1],\n",
       "       [1],\n",
       "       [0],\n",
       "       [0],\n",
       "       [0],\n",
       "       [1],\n",
       "       [0],\n",
       "       [1],\n",
       "       [0],\n",
       "       [0],\n",
       "       [0],\n",
       "       [0],\n",
       "       [0],\n",
       "       [0],\n",
       "       [0],\n",
       "       [1],\n",
       "       [0],\n",
       "       [0],\n",
       "       [0],\n",
       "       [0],\n",
       "       [0],\n",
       "       [0],\n",
       "       [0],\n",
       "       [0],\n",
       "       [1],\n",
       "       [1],\n",
       "       [0],\n",
       "       [0],\n",
       "       [1],\n",
       "       [0],\n",
       "       [0],\n",
       "       [1],\n",
       "       [1],\n",
       "       [0],\n",
       "       [0],\n",
       "       [0],\n",
       "       [1],\n",
       "       [1],\n",
       "       [1],\n",
       "       [0],\n",
       "       [1],\n",
       "       [1],\n",
       "       [0],\n",
       "       [0],\n",
       "       [1],\n",
       "       [1],\n",
       "       [1],\n",
       "       [0],\n",
       "       [1],\n",
       "       [1],\n",
       "       [1],\n",
       "       [0],\n",
       "       [0],\n",
       "       [0],\n",
       "       [0],\n",
       "       [0],\n",
       "       [1],\n",
       "       [0],\n",
       "       [1],\n",
       "       [1],\n",
       "       [0],\n",
       "       [0],\n",
       "       [0],\n",
       "       [1],\n",
       "       [1],\n",
       "       [0],\n",
       "       [1],\n",
       "       [0],\n",
       "       [1],\n",
       "       [1],\n",
       "       [1],\n",
       "       [1],\n",
       "       [1],\n",
       "       [1],\n",
       "       [0],\n",
       "       [1],\n",
       "       [1],\n",
       "       [1],\n",
       "       [1],\n",
       "       [1],\n",
       "       [1],\n",
       "       [0],\n",
       "       [1],\n",
       "       [1]])"
      ]
     },
     "execution_count": 116,
     "metadata": {},
     "output_type": "execute_result"
    }
   ],
   "source": [
    "y_pred= model.predict(X_test)\n",
    "y_pred= (y_pred>0.5).astype('int32')\n",
    "y_pred"
   ]
  },
  {
   "cell_type": "code",
   "execution_count": 115,
   "id": "0b69f069",
   "metadata": {},
   "outputs": [
    {
     "data": {
      "text/plain": [
       "407    1\n",
       "293    0\n",
       "217    0\n",
       "54     0\n",
       "114    1\n",
       "      ..\n",
       "336    1\n",
       "12     1\n",
       "343    0\n",
       "94     1\n",
       "252    1\n",
       "Name: category, Length: 200, dtype: int64"
      ]
     },
     "execution_count": 115,
     "metadata": {},
     "output_type": "execute_result"
    }
   ],
   "source": [
    "y_test"
   ]
  },
  {
   "cell_type": "code",
   "execution_count": null,
   "id": "b5c12992",
   "metadata": {},
   "outputs": [],
   "source": []
  }
 ],
 "metadata": {
  "kernelspec": {
   "display_name": "Python 3 (ipykernel)",
   "language": "python",
   "name": "python3"
  },
  "language_info": {
   "codemirror_mode": {
    "name": "ipython",
    "version": 3
   },
   "file_extension": ".py",
   "mimetype": "text/x-python",
   "name": "python",
   "nbconvert_exporter": "python",
   "pygments_lexer": "ipython3",
   "version": "3.11.5"
  }
 },
 "nbformat": 4,
 "nbformat_minor": 5
}
